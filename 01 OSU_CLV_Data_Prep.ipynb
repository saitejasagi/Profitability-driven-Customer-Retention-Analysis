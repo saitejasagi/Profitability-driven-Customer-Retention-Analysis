{
 "cells": [
  {
   "cell_type": "markdown",
   "metadata": {},
   "source": [
    "# Hands-on Lab --- Data Prep"
   ]
  },
  {
   "cell_type": "markdown",
   "metadata": {},
   "source": [
    "## Importing packages:"
   ]
  },
  {
   "cell_type": "code",
   "execution_count": 1,
   "metadata": {},
   "outputs": [],
   "source": [
    "import numpy as np\n",
    "import pandas as pd\n",
    "import sklearn as sk\n",
    "import matplotlib.pyplot as plt\n",
    "\n",
    "\n",
    "pd.set_option('display.max_rows', 500)\n",
    "pd.set_option('display.max_columns', 50)\n",
    "pd.set_option('display.width', 1000)\n",
    "pd.set_option('display.precision', 2)"
   ]
  },
  {
   "cell_type": "markdown",
   "metadata": {},
   "source": [
    "## Reading comma separated files into dataframes.\n",
    "## Change the path below to point to churn and margin data:"
   ]
  },
  {
   "cell_type": "code",
   "execution_count": 2,
   "metadata": {},
   "outputs": [],
   "source": [
    "churn_df = pd.read_csv(r'D:\\Adjunct_Lecture\\OSU\\Fall_2019\\Lab_Data\\churn_data.csv')\n",
    "margin_df = pd.read_csv(r'D:\\Adjunct_Lecture\\OSU\\Fall_2019\\Lab_Data\\margin_data.csv')"
   ]
  },
  {
   "cell_type": "markdown",
   "metadata": {},
   "source": [
    "## Use the head method to view churn dataframe:"
   ]
  },
  {
   "cell_type": "code",
   "execution_count": 3,
   "metadata": {},
   "outputs": [
    {
     "data": {
      "text/html": [
       "<div>\n",
       "<style scoped>\n",
       "    .dataframe tbody tr th:only-of-type {\n",
       "        vertical-align: middle;\n",
       "    }\n",
       "\n",
       "    .dataframe tbody tr th {\n",
       "        vertical-align: top;\n",
       "    }\n",
       "\n",
       "    .dataframe thead th {\n",
       "        text-align: right;\n",
       "    }\n",
       "</style>\n",
       "<table border=\"1\" class=\"dataframe\">\n",
       "  <thead>\n",
       "    <tr style=\"text-align: right;\">\n",
       "      <th></th>\n",
       "      <th>ST</th>\n",
       "      <th>Zip</th>\n",
       "      <th>DMA</th>\n",
       "      <th>Area_Cd</th>\n",
       "      <th>emailable</th>\n",
       "      <th>solicit_ph_ind</th>\n",
       "      <th>solicit_email_ind</th>\n",
       "      <th>fixd_incm_flg</th>\n",
       "      <th>scheduled_purchase_flg</th>\n",
       "      <th>months_since_last_trans</th>\n",
       "      <th>...</th>\n",
       "      <th>resp_cnt_36mo</th>\n",
       "      <th>call_in_mo_36mo</th>\n",
       "      <th>call_out_mo_36mo</th>\n",
       "      <th>order_cnt_36mo</th>\n",
       "      <th>tier</th>\n",
       "      <th>tier_prev</th>\n",
       "      <th>acct_ID</th>\n",
       "      <th>activation_date</th>\n",
       "      <th>event_date</th>\n",
       "      <th>churn_year_plus1_ind</th>\n",
       "    </tr>\n",
       "  </thead>\n",
       "  <tbody>\n",
       "    <tr>\n",
       "      <th>0</th>\n",
       "      <td>VA</td>\n",
       "      <td>23464</td>\n",
       "      <td>544</td>\n",
       "      <td>missing</td>\n",
       "      <td>0</td>\n",
       "      <td>0</td>\n",
       "      <td>1</td>\n",
       "      <td>0</td>\n",
       "      <td>0</td>\n",
       "      <td>2</td>\n",
       "      <td>...</td>\n",
       "      <td>0</td>\n",
       "      <td>0</td>\n",
       "      <td>0</td>\n",
       "      <td>1</td>\n",
       "      <td>3-Gold</td>\n",
       "      <td>xxx</td>\n",
       "      <td>B102465045</td>\n",
       "      <td>04JAN04</td>\n",
       "      <td>30JUN15</td>\n",
       "      <td>1</td>\n",
       "    </tr>\n",
       "    <tr>\n",
       "      <th>1</th>\n",
       "      <td>NC</td>\n",
       "      <td>27542</td>\n",
       "      <td>560</td>\n",
       "      <td>919</td>\n",
       "      <td>1</td>\n",
       "      <td>1</td>\n",
       "      <td>1</td>\n",
       "      <td>0</td>\n",
       "      <td>0</td>\n",
       "      <td>4</td>\n",
       "      <td>...</td>\n",
       "      <td>0</td>\n",
       "      <td>4</td>\n",
       "      <td>0</td>\n",
       "      <td>8</td>\n",
       "      <td>5-Diamond</td>\n",
       "      <td>3-Gold</td>\n",
       "      <td>B106897643</td>\n",
       "      <td>04JUL04</td>\n",
       "      <td>NaN</td>\n",
       "      <td>0</td>\n",
       "    </tr>\n",
       "    <tr>\n",
       "      <th>2</th>\n",
       "      <td>NV</td>\n",
       "      <td>89109</td>\n",
       "      <td>839</td>\n",
       "      <td>702</td>\n",
       "      <td>0</td>\n",
       "      <td>0</td>\n",
       "      <td>1</td>\n",
       "      <td>0</td>\n",
       "      <td>0</td>\n",
       "      <td>8</td>\n",
       "      <td>...</td>\n",
       "      <td>0</td>\n",
       "      <td>0</td>\n",
       "      <td>0</td>\n",
       "      <td>1</td>\n",
       "      <td>1-Bronze</td>\n",
       "      <td>xxx</td>\n",
       "      <td>B111832829</td>\n",
       "      <td>03SEP06</td>\n",
       "      <td>NaN</td>\n",
       "      <td>0</td>\n",
       "    </tr>\n",
       "    <tr>\n",
       "      <th>3</th>\n",
       "      <td>OH</td>\n",
       "      <td>43050</td>\n",
       "      <td>535</td>\n",
       "      <td>614</td>\n",
       "      <td>0</td>\n",
       "      <td>1</td>\n",
       "      <td>1</td>\n",
       "      <td>0</td>\n",
       "      <td>0</td>\n",
       "      <td>1</td>\n",
       "      <td>...</td>\n",
       "      <td>0</td>\n",
       "      <td>0</td>\n",
       "      <td>0</td>\n",
       "      <td>6</td>\n",
       "      <td>1-Bronze</td>\n",
       "      <td>xxx</td>\n",
       "      <td>B112883062</td>\n",
       "      <td>03SEP05</td>\n",
       "      <td>NaN</td>\n",
       "      <td>0</td>\n",
       "    </tr>\n",
       "    <tr>\n",
       "      <th>4</th>\n",
       "      <td>HI</td>\n",
       "      <td>96789</td>\n",
       "      <td>744</td>\n",
       "      <td>808</td>\n",
       "      <td>1</td>\n",
       "      <td>1</td>\n",
       "      <td>1</td>\n",
       "      <td>0</td>\n",
       "      <td>0</td>\n",
       "      <td>4</td>\n",
       "      <td>...</td>\n",
       "      <td>6</td>\n",
       "      <td>4</td>\n",
       "      <td>0</td>\n",
       "      <td>6</td>\n",
       "      <td>4-Platinum</td>\n",
       "      <td>3-Gold</td>\n",
       "      <td>B113581008</td>\n",
       "      <td>03DEC05</td>\n",
       "      <td>NaN</td>\n",
       "      <td>0</td>\n",
       "    </tr>\n",
       "  </tbody>\n",
       "</table>\n",
       "<p>5 rows × 31 columns</p>\n",
       "</div>"
      ],
      "text/plain": [
       "   ST    Zip  DMA  Area_Cd  emailable  solicit_ph_ind  solicit_email_ind  \\\n",
       "0  VA  23464  544  missing          0               0                  1   \n",
       "1  NC  27542  560      919          1               1                  1   \n",
       "2  NV  89109  839      702          0               0                  1   \n",
       "3  OH  43050  535      614          0               1                  1   \n",
       "4  HI  96789  744      808          1               1                  1   \n",
       "\n",
       "   fixd_incm_flg  scheduled_purchase_flg  months_since_last_trans  ...  \\\n",
       "0              0                       0                        2  ...   \n",
       "1              0                       0                        4  ...   \n",
       "2              0                       0                        8  ...   \n",
       "3              0                       0                        1  ...   \n",
       "4              0                       0                        4  ...   \n",
       "\n",
       "   resp_cnt_36mo  call_in_mo_36mo  call_out_mo_36mo  order_cnt_36mo  \\\n",
       "0              0                0                 0               1   \n",
       "1              0                4                 0               8   \n",
       "2              0                0                 0               1   \n",
       "3              0                0                 0               6   \n",
       "4              6                4                 0               6   \n",
       "\n",
       "         tier  tier_prev     acct_ID  activation_date  event_date  \\\n",
       "0      3-Gold        xxx  B102465045          04JAN04     30JUN15   \n",
       "1   5-Diamond     3-Gold  B106897643          04JUL04         NaN   \n",
       "2    1-Bronze        xxx  B111832829          03SEP06         NaN   \n",
       "3    1-Bronze        xxx  B112883062          03SEP05         NaN   \n",
       "4  4-Platinum     3-Gold  B113581008          03DEC05         NaN   \n",
       "\n",
       "   churn_year_plus1_ind  \n",
       "0                     1  \n",
       "1                     0  \n",
       "2                     0  \n",
       "3                     0  \n",
       "4                     0  \n",
       "\n",
       "[5 rows x 31 columns]"
      ]
     },
     "execution_count": 3,
     "metadata": {},
     "output_type": "execute_result"
    }
   ],
   "source": [
    "churn_df.head()"
   ]
  },
  {
   "cell_type": "markdown",
   "metadata": {},
   "source": [
    "## Use pandas describe method to see variable stats,\n",
    "##    and transpose to show variables as a list:"
   ]
  },
  {
   "cell_type": "code",
   "execution_count": 4,
   "metadata": {},
   "outputs": [
    {
     "name": "stdout",
     "output_type": "stream",
     "text": [
      " summary stats on churn data \n",
      "                          count unique         top   freq       mean  \\\n",
      "ST                        73481     59          CA   6649        NaN   \n",
      "Zip                       73481  18361     missing    282        NaN   \n",
      "DMA                       73481    216         803   3013        NaN   \n",
      "Area_Cd                   73481    328     missing   3851        NaN   \n",
      "emailable                 73481    NaN         NaN    NaN   0.517644   \n",
      "solicit_ph_ind            73481    NaN         NaN    NaN   0.891509   \n",
      "solicit_email_ind         73481    NaN         NaN    NaN   0.963719   \n",
      "fixd_incm_flg             73481    NaN         NaN    NaN  0.0918741   \n",
      "scheduled_purchase_flg    73481    NaN         NaN    NaN   0.264749   \n",
      "months_since_last_trans   73481    NaN         NaN    NaN    2.90516   \n",
      "months_since_first_trans  73481    NaN         NaN    NaN    65.2841   \n",
      "purch_cnt_life            73481    NaN         NaN    NaN      55.77   \n",
      "purch_amt_life            73481    NaN         NaN    NaN    3242.32   \n",
      "purch_cnt_cc_36mo         73481    NaN         NaN    NaN    4.66273   \n",
      "purch_cnt_et_36mo         73481    NaN         NaN    NaN    3.93427   \n",
      "purch_cnt_ck_36mo         73481    NaN         NaN    NaN    10.6444   \n",
      "purch_cnt_tt_36mo         73481    NaN         NaN    NaN    19.2422   \n",
      "purch_amt_36mo            73481    NaN         NaN    NaN    1128.67   \n",
      "purch_avg_36mo            73481    NaN         NaN    NaN    64.9972   \n",
      "purch_avg_interval        73481    NaN         NaN    NaN    2.16108   \n",
      "mail_cnt_36mo             73481    NaN         NaN    NaN    19.0434   \n",
      "resp_cnt_36mo             73481    NaN         NaN    NaN    3.26022   \n",
      "call_in_mo_36mo           73481    NaN         NaN    NaN    7.75918   \n",
      "call_out_mo_36mo          73481    NaN         NaN    NaN    2.27415   \n",
      "order_cnt_36mo            73481    NaN         NaN    NaN    6.25925   \n",
      "tier                      73481      5    1-Bronze  47066        NaN   \n",
      "tier_prev                 73481      6         xxx  49632        NaN   \n",
      "acct_ID                   73481  73384  I152642467      3        NaN   \n",
      "activation_date           73481    200     06JUL00   5295        NaN   \n",
      "event_date                19330     12     31JUL15   2156        NaN   \n",
      "churn_year_plus1_ind      73481    NaN         NaN    NaN   0.263061   \n",
      "\n",
      "                               std  min   25%    50%      75%          max  \n",
      "ST                             NaN  NaN   NaN    NaN      NaN          NaN  \n",
      "Zip                            NaN  NaN   NaN    NaN      NaN          NaN  \n",
      "DMA                            NaN  NaN   NaN    NaN      NaN          NaN  \n",
      "Area_Cd                        NaN  NaN   NaN    NaN      NaN          NaN  \n",
      "emailable                 0.499692    0     0      1        1            1  \n",
      "solicit_ph_ind            0.311001    0     1      1        1            1  \n",
      "solicit_email_ind         0.186991    0     1      1        1            1  \n",
      "fixd_incm_flg              0.28885    0     0      0        0            1  \n",
      "scheduled_purchase_flg    0.441202    0     0      0        1            1  \n",
      "months_since_last_trans    3.09801    1     1      1        4           12  \n",
      "months_since_first_trans    58.053    1    14     46      109          298  \n",
      "purch_cnt_life             75.5326    1     8     26       73         1461  \n",
      "purch_amt_life             11748.2    0   220    809  2660.62  1.06865e+06  \n",
      "purch_cnt_cc_36mo          9.58549    0     0      0        4          629  \n",
      "purch_cnt_et_36mo          10.6296    0     0      0        0          230  \n",
      "purch_cnt_ck_36mo          14.3965    0     0      3       18          503  \n",
      "purch_cnt_tt_36mo          15.2121    0     6     16       33          629  \n",
      "purch_amt_36mo             4616.18    0   160    510     1060       579742  \n",
      "purch_avg_36mo             409.413   -1    20  25.19    46.67      50468.8  \n",
      "purch_avg_interval         4.87521   -1  0.99   1.09     1.93          165  \n",
      "mail_cnt_36mo              14.8088    0     6     16       33          428  \n",
      "resp_cnt_36mo              7.07871    0     0      0        3          235  \n",
      "call_in_mo_36mo            45.5587    0     0      0        3         2322  \n",
      "call_out_mo_36mo           2.36998    0     1      2        3           38  \n",
      "order_cnt_36mo               9.755    0     3      4        7          473  \n",
      "tier                           NaN  NaN   NaN    NaN      NaN          NaN  \n",
      "tier_prev                      NaN  NaN   NaN    NaN      NaN          NaN  \n",
      "acct_ID                        NaN  NaN   NaN    NaN      NaN          NaN  \n",
      "activation_date                NaN  NaN   NaN    NaN      NaN          NaN  \n",
      "event_date                     NaN  NaN   NaN    NaN      NaN          NaN  \n",
      "churn_year_plus1_ind      0.440298    0     0      0        1            1  \n"
     ]
    }
   ],
   "source": [
    "print(\" summary stats on churn data \") \n",
    "print(churn_df.describe(include='all').transpose())"
   ]
  },
  {
   "cell_type": "markdown",
   "metadata": {},
   "source": [
    "## Use head method to view margin dataframe:"
   ]
  },
  {
   "cell_type": "code",
   "execution_count": 5,
   "metadata": {},
   "outputs": [
    {
     "data": {
      "text/html": [
       "<div>\n",
       "<style scoped>\n",
       "    .dataframe tbody tr th:only-of-type {\n",
       "        vertical-align: middle;\n",
       "    }\n",
       "\n",
       "    .dataframe tbody tr th {\n",
       "        vertical-align: top;\n",
       "    }\n",
       "\n",
       "    .dataframe thead th {\n",
       "        text-align: right;\n",
       "    }\n",
       "</style>\n",
       "<table border=\"1\" class=\"dataframe\">\n",
       "  <thead>\n",
       "    <tr style=\"text-align: right;\">\n",
       "      <th></th>\n",
       "      <th>trans_amt_t_minus_00</th>\n",
       "      <th>trans_amt_t_minus_01</th>\n",
       "      <th>trans_amt_t_minus_02</th>\n",
       "      <th>trans_amt_t_minus_03</th>\n",
       "      <th>trans_amt_t_minus_04</th>\n",
       "      <th>trans_amt_t_minus_05</th>\n",
       "      <th>trans_amt_t_minus_06</th>\n",
       "      <th>trans_amt_t_minus_07</th>\n",
       "      <th>trans_amt_t_minus_08</th>\n",
       "      <th>trans_amt_t_minus_09</th>\n",
       "      <th>...</th>\n",
       "      <th>cost_amt_t_plus_04</th>\n",
       "      <th>cost_amt_t_plus_05</th>\n",
       "      <th>cost_amt_t_plus_06</th>\n",
       "      <th>cost_amt_t_plus_07</th>\n",
       "      <th>cost_amt_t_plus_08</th>\n",
       "      <th>cost_amt_t_plus_09</th>\n",
       "      <th>cost_amt_t_plus_10</th>\n",
       "      <th>cost_amt_t_plus_11</th>\n",
       "      <th>cost_amt_t_plus_12</th>\n",
       "      <th>acct_ID</th>\n",
       "    </tr>\n",
       "  </thead>\n",
       "  <tbody>\n",
       "    <tr>\n",
       "      <th>0</th>\n",
       "      <td>0.0</td>\n",
       "      <td>1961.0</td>\n",
       "      <td>6110.5</td>\n",
       "      <td>0.0</td>\n",
       "      <td>0.0</td>\n",
       "      <td>0.0</td>\n",
       "      <td>0.0</td>\n",
       "      <td>0.0</td>\n",
       "      <td>0.0</td>\n",
       "      <td>0.0</td>\n",
       "      <td>...</td>\n",
       "      <td>0.00</td>\n",
       "      <td>0.00</td>\n",
       "      <td>0.30</td>\n",
       "      <td>0.00</td>\n",
       "      <td>0.00</td>\n",
       "      <td>0.00</td>\n",
       "      <td>0.30</td>\n",
       "      <td>0.00</td>\n",
       "      <td>0.00</td>\n",
       "      <td>B102465045</td>\n",
       "    </tr>\n",
       "    <tr>\n",
       "      <th>1</th>\n",
       "      <td>0.0</td>\n",
       "      <td>0.0</td>\n",
       "      <td>0.0</td>\n",
       "      <td>40.0</td>\n",
       "      <td>0.0</td>\n",
       "      <td>400.0</td>\n",
       "      <td>200.0</td>\n",
       "      <td>150.0</td>\n",
       "      <td>0.0</td>\n",
       "      <td>0.0</td>\n",
       "      <td>...</td>\n",
       "      <td>13.97</td>\n",
       "      <td>15.69</td>\n",
       "      <td>14.87</td>\n",
       "      <td>14.79</td>\n",
       "      <td>14.57</td>\n",
       "      <td>14.27</td>\n",
       "      <td>14.27</td>\n",
       "      <td>14.76</td>\n",
       "      <td>14.53</td>\n",
       "      <td>B106897643</td>\n",
       "    </tr>\n",
       "    <tr>\n",
       "      <th>2</th>\n",
       "      <td>0.0</td>\n",
       "      <td>0.0</td>\n",
       "      <td>0.0</td>\n",
       "      <td>0.0</td>\n",
       "      <td>0.0</td>\n",
       "      <td>0.0</td>\n",
       "      <td>0.0</td>\n",
       "      <td>300.0</td>\n",
       "      <td>0.0</td>\n",
       "      <td>0.0</td>\n",
       "      <td>...</td>\n",
       "      <td>0.00</td>\n",
       "      <td>0.00</td>\n",
       "      <td>0.00</td>\n",
       "      <td>3.91</td>\n",
       "      <td>2.87</td>\n",
       "      <td>0.00</td>\n",
       "      <td>0.00</td>\n",
       "      <td>0.00</td>\n",
       "      <td>0.00</td>\n",
       "      <td>B111832829</td>\n",
       "    </tr>\n",
       "    <tr>\n",
       "      <th>3</th>\n",
       "      <td>20.0</td>\n",
       "      <td>20.0</td>\n",
       "      <td>20.0</td>\n",
       "      <td>20.0</td>\n",
       "      <td>20.0</td>\n",
       "      <td>20.0</td>\n",
       "      <td>20.0</td>\n",
       "      <td>20.0</td>\n",
       "      <td>20.0</td>\n",
       "      <td>20.0</td>\n",
       "      <td>...</td>\n",
       "      <td>1.29</td>\n",
       "      <td>0.26</td>\n",
       "      <td>0.00</td>\n",
       "      <td>0.00</td>\n",
       "      <td>0.00</td>\n",
       "      <td>0.00</td>\n",
       "      <td>0.30</td>\n",
       "      <td>0.00</td>\n",
       "      <td>0.30</td>\n",
       "      <td>B112883062</td>\n",
       "    </tr>\n",
       "    <tr>\n",
       "      <th>4</th>\n",
       "      <td>0.0</td>\n",
       "      <td>0.0</td>\n",
       "      <td>0.0</td>\n",
       "      <td>600.0</td>\n",
       "      <td>0.0</td>\n",
       "      <td>0.0</td>\n",
       "      <td>0.0</td>\n",
       "      <td>700.0</td>\n",
       "      <td>300.0</td>\n",
       "      <td>300.0</td>\n",
       "      <td>...</td>\n",
       "      <td>15.04</td>\n",
       "      <td>15.09</td>\n",
       "      <td>15.94</td>\n",
       "      <td>18.68</td>\n",
       "      <td>15.94</td>\n",
       "      <td>15.30</td>\n",
       "      <td>17.72</td>\n",
       "      <td>15.06</td>\n",
       "      <td>15.90</td>\n",
       "      <td>B113581008</td>\n",
       "    </tr>\n",
       "  </tbody>\n",
       "</table>\n",
       "<p>5 rows × 97 columns</p>\n",
       "</div>"
      ],
      "text/plain": [
       "   trans_amt_t_minus_00  trans_amt_t_minus_01  trans_amt_t_minus_02  \\\n",
       "0                   0.0                1961.0                6110.5   \n",
       "1                   0.0                   0.0                   0.0   \n",
       "2                   0.0                   0.0                   0.0   \n",
       "3                  20.0                  20.0                  20.0   \n",
       "4                   0.0                   0.0                   0.0   \n",
       "\n",
       "   trans_amt_t_minus_03  trans_amt_t_minus_04  trans_amt_t_minus_05  \\\n",
       "0                   0.0                   0.0                   0.0   \n",
       "1                  40.0                   0.0                 400.0   \n",
       "2                   0.0                   0.0                   0.0   \n",
       "3                  20.0                  20.0                  20.0   \n",
       "4                 600.0                   0.0                   0.0   \n",
       "\n",
       "   trans_amt_t_minus_06  trans_amt_t_minus_07  trans_amt_t_minus_08  \\\n",
       "0                   0.0                   0.0                   0.0   \n",
       "1                 200.0                 150.0                   0.0   \n",
       "2                   0.0                 300.0                   0.0   \n",
       "3                  20.0                  20.0                  20.0   \n",
       "4                   0.0                 700.0                 300.0   \n",
       "\n",
       "   trans_amt_t_minus_09  ...  cost_amt_t_plus_04  cost_amt_t_plus_05  \\\n",
       "0                   0.0  ...                0.00                0.00   \n",
       "1                   0.0  ...               13.97               15.69   \n",
       "2                   0.0  ...                0.00                0.00   \n",
       "3                  20.0  ...                1.29                0.26   \n",
       "4                 300.0  ...               15.04               15.09   \n",
       "\n",
       "   cost_amt_t_plus_06  cost_amt_t_plus_07  cost_amt_t_plus_08  \\\n",
       "0                0.30                0.00                0.00   \n",
       "1               14.87               14.79               14.57   \n",
       "2                0.00                3.91                2.87   \n",
       "3                0.00                0.00                0.00   \n",
       "4               15.94               18.68               15.94   \n",
       "\n",
       "   cost_amt_t_plus_09  cost_amt_t_plus_10  cost_amt_t_plus_11  \\\n",
       "0                0.00                0.30                0.00   \n",
       "1               14.27               14.27               14.76   \n",
       "2                0.00                0.00                0.00   \n",
       "3                0.00                0.30                0.00   \n",
       "4               15.30               17.72               15.06   \n",
       "\n",
       "   cost_amt_t_plus_12     acct_ID  \n",
       "0                0.00  B102465045  \n",
       "1               14.53  B106897643  \n",
       "2                0.00  B111832829  \n",
       "3                0.30  B112883062  \n",
       "4               15.90  B113581008  \n",
       "\n",
       "[5 rows x 97 columns]"
      ]
     },
     "execution_count": 5,
     "metadata": {},
     "output_type": "execute_result"
    }
   ],
   "source": [
    "margin_df.head()"
   ]
  },
  {
   "cell_type": "markdown",
   "metadata": {},
   "source": [
    "## Modify margin data to only have ANNUAL margin numbers,\n",
    "##    and print stats on the new margin dataframe:"
   ]
  },
  {
   "cell_type": "code",
   "execution_count": 6,
   "metadata": {},
   "outputs": [
    {
     "name": "stdout",
     "output_type": "stream",
     "text": [
      " summary stats on margin data \n",
      "                count unique         top freq     mean      std      min  \\\n",
      "acct_ID         73481  73384  I152642467    3      NaN      NaN      NaN   \n",
      "margin_Y_neg_1  73481    NaN         NaN  NaN  229.165  1590.26 -18624.2   \n",
      "margin_Y_neg_2  73481    NaN         NaN  NaN  194.084  1696.54 -7675.16   \n",
      "margin_Y_neg_3  73481    NaN         NaN  NaN  158.677  1392.78 -6902.63   \n",
      "margin_Y_pos_1  73481    NaN         NaN  NaN  357.207  1720.88  -2679.1   \n",
      "\n",
      "                  25%     50%     75%     max  \n",
      "acct_ID           NaN     NaN     NaN     NaN  \n",
      "margin_Y_neg_1  43.12  182.31  338.27  197544  \n",
      "margin_Y_neg_2      0  122.92  294.78  203657  \n",
      "margin_Y_neg_3      0   26.17  243.63  194459  \n",
      "margin_Y_pos_1  -2.21  162.27  332.86  199705  \n"
     ]
    }
   ],
   "source": [
    "margin_df['rev_Y_neg_1']=margin_df['trans_amt_t_minus_00']+margin_df['trans_amt_t_minus_01']+margin_df['trans_amt_t_minus_02']+margin_df['trans_amt_t_minus_03']+margin_df['trans_amt_t_minus_04']+margin_df['trans_amt_t_minus_05']+margin_df['trans_amt_t_minus_06']+margin_df['trans_amt_t_minus_07']+margin_df['trans_amt_t_minus_08']+margin_df['trans_amt_t_minus_09']+margin_df['trans_amt_t_minus_10']+margin_df['trans_amt_t_minus_11']\n",
    "margin_df['cost_Y_neg_1']=margin_df['cost_amt_t_minus_00']+margin_df['cost_amt_t_minus_01']+margin_df['cost_amt_t_minus_02']+margin_df['cost_amt_t_minus_03']+margin_df['cost_amt_t_minus_04']+margin_df['cost_amt_t_minus_05']+margin_df['cost_amt_t_minus_06']+margin_df['cost_amt_t_minus_07']+margin_df['cost_amt_t_minus_08']+margin_df['cost_amt_t_minus_09']+margin_df['cost_amt_t_minus_10']+margin_df['cost_amt_t_minus_11']\n",
    "margin_df['margin_Y_neg_1']=margin_df['rev_Y_neg_1']-margin_df['cost_Y_neg_1']\n",
    "\n",
    "margin_df['rev_Y_neg_2']=margin_df['trans_amt_t_minus_12']+margin_df['trans_amt_t_minus_13']+margin_df['trans_amt_t_minus_14']+margin_df['trans_amt_t_minus_15']+margin_df['trans_amt_t_minus_16']+margin_df['trans_amt_t_minus_17']+margin_df['trans_amt_t_minus_18']+margin_df['trans_amt_t_minus_19']+margin_df['trans_amt_t_minus_20']+margin_df['trans_amt_t_minus_21']+margin_df['trans_amt_t_minus_22']+margin_df['trans_amt_t_minus_23']\n",
    "margin_df['cost_Y_neg_2']=margin_df['cost_amt_t_minus_12']+margin_df['cost_amt_t_minus_13']+margin_df['cost_amt_t_minus_14']+margin_df['cost_amt_t_minus_15']+margin_df['cost_amt_t_minus_16']+margin_df['cost_amt_t_minus_17']+margin_df['cost_amt_t_minus_18']+margin_df['cost_amt_t_minus_19']+margin_df['cost_amt_t_minus_20']+margin_df['cost_amt_t_minus_21']+margin_df['cost_amt_t_minus_22']+margin_df['cost_amt_t_minus_23']\n",
    "margin_df['margin_Y_neg_2']=margin_df['rev_Y_neg_2']-margin_df['cost_Y_neg_2']\n",
    "\n",
    "margin_df['rev_Y_neg_3']=margin_df['trans_amt_t_minus_24']+margin_df['trans_amt_t_minus_25']+margin_df['trans_amt_t_minus_26']+margin_df['trans_amt_t_minus_27']+margin_df['trans_amt_t_minus_28']+margin_df['trans_amt_t_minus_29']+margin_df['trans_amt_t_minus_30']+margin_df['trans_amt_t_minus_31']+margin_df['trans_amt_t_minus_32']+margin_df['trans_amt_t_minus_33']+margin_df['trans_amt_t_minus_34']+margin_df['trans_amt_t_minus_35']\n",
    "margin_df['cost_Y_neg_3']=margin_df['cost_amt_t_minus_24']+margin_df['cost_amt_t_minus_25']+margin_df['cost_amt_t_minus_26']+margin_df['cost_amt_t_minus_27']+margin_df['cost_amt_t_minus_28']+margin_df['cost_amt_t_minus_29']+margin_df['cost_amt_t_minus_30']+margin_df['cost_amt_t_minus_31']+margin_df['cost_amt_t_minus_32']+margin_df['cost_amt_t_minus_33']+margin_df['cost_amt_t_minus_34']+margin_df['cost_amt_t_minus_35']\n",
    "margin_df['margin_Y_neg_3']=margin_df['rev_Y_neg_3']-margin_df['cost_Y_neg_3']\n",
    "\n",
    "margin_df['rev_Y_pos_1']=margin_df['trans_amt_t_plus_01']+margin_df['trans_amt_t_plus_02']+margin_df['trans_amt_t_plus_03']+margin_df['trans_amt_t_plus_04']+margin_df['trans_amt_t_plus_05']+margin_df['trans_amt_t_plus_06']+margin_df['trans_amt_t_plus_07']+margin_df['trans_amt_t_plus_08']+margin_df['trans_amt_t_plus_09']+margin_df['trans_amt_t_plus_10']+margin_df['trans_amt_t_plus_11']+margin_df['trans_amt_t_plus_12']\n",
    "margin_df['cost_Y_pos_1']=margin_df['cost_amt_t_plus_01']+margin_df['cost_amt_t_plus_02']+margin_df['cost_amt_t_plus_03']+margin_df['cost_amt_t_plus_04']+margin_df['cost_amt_t_plus_05']+margin_df['cost_amt_t_plus_06']+margin_df['cost_amt_t_plus_07']+margin_df['cost_amt_t_plus_08']+margin_df['cost_amt_t_plus_09']+margin_df['cost_amt_t_plus_10']+margin_df['cost_amt_t_plus_11']+margin_df['cost_amt_t_plus_12']\n",
    "margin_df['margin_Y_pos_1']=margin_df['rev_Y_pos_1']-margin_df['cost_Y_pos_1']\n",
    "\n",
    "margin_df = margin_df[['acct_ID','margin_Y_neg_1','margin_Y_neg_2','margin_Y_neg_3','margin_Y_pos_1']]\n",
    "\n",
    "print(\" summary stats on margin data \") \n",
    "print(margin_df.describe(include='all').transpose())"
   ]
  },
  {
   "cell_type": "markdown",
   "metadata": {},
   "source": [
    "## Create bar chart to explore churn rates by tiers:"
   ]
  },
  {
   "cell_type": "code",
   "execution_count": 7,
   "metadata": {},
   "outputs": [
    {
     "data": {
      "text/plain": [
       "<matplotlib.axes._subplots.AxesSubplot at 0x9db86d8>"
      ]
     },
     "execution_count": 7,
     "metadata": {},
     "output_type": "execute_result"
    },
    {
     "data": {
      "image/png": "[encoded data removed]",
      "text/plain": [
       "<Figure size 432x288 with 1 Axes>"
      ]
     },
     "metadata": {
      "needs_background": "light"
     },
     "output_type": "display_data"
    }
   ],
   "source": [
    "temp_df = churn_df.groupby(['tier'])['churn_year_plus1_ind'].mean()\n",
    "temp_df.plot.bar(title=\"Churn Rate by Tiers\")"
   ]
  },
  {
   "cell_type": "markdown",
   "metadata": {},
   "source": [
    "## Create histogram to explore distribution of variables in churn data:"
   ]
  },
  {
   "cell_type": "code",
   "execution_count": 8,
   "metadata": {},
   "outputs": [
    {
     "data": {
      "text/plain": [
       "<matplotlib.axes._subplots.AxesSubplot at 0x9ecbcf8>"
      ]
     },
     "execution_count": 8,
     "metadata": {},
     "output_type": "execute_result"
    },
    {
     "data": {
      "image/png": "[encoded data removed]",
      "text/plain": [
       "<Figure size 432x288 with 1 Axes>"
      ]
     },
     "metadata": {
      "needs_background": "light"
     },
     "output_type": "display_data"
    }
   ],
   "source": [
    "churn_df['purch_amt_life'].plot.hist(title=\"Distribution of Purchase Amount\",bins=50)"
   ]
  },
  {
   "cell_type": "markdown",
   "metadata": {},
   "source": [
    "## Create histogram to explore distribution of variables in margin data:"
   ]
  },
  {
   "cell_type": "code",
   "execution_count": 9,
   "metadata": {},
   "outputs": [
    {
     "data": {
      "text/plain": [
       "<matplotlib.axes._subplots.AxesSubplot at 0xa047cc0>"
      ]
     },
     "execution_count": 9,
     "metadata": {},
     "output_type": "execute_result"
    },
    {
     "data": {
      "image/png": "[encoded data removed]",
      "text/plain": [
       "<Figure size 432x288 with 1 Axes>"
      ]
     },
     "metadata": {
      "needs_background": "light"
     },
     "output_type": "display_data"
    }
   ],
   "source": [
    "temp_df = margin_df.query('-1000<margin_Y_neg_1<3000')\n",
    "temp_df['margin_Y_neg_1'].plot.hist(title=\"Distribution of Prior Year Margin\",bins=50)"
   ]
  },
  {
   "cell_type": "markdown",
   "metadata": {},
   "source": [
    "## Feature engineering on the Churn data:"
   ]
  },
  {
   "cell_type": "code",
   "execution_count": 10,
   "metadata": {},
   "outputs": [
    {
     "name": "stdout",
     "output_type": "stream",
     "text": [
      " summary stats on churn data \n",
      "                          count unique         top   freq       mean  \\\n",
      "ST                        73481     59          CA   6649        NaN   \n",
      "Zip                       73481  18361     missing    282        NaN   \n",
      "DMA                       73481    216         803   3013        NaN   \n",
      "Area_Cd                   73481    328     missing   3851        NaN   \n",
      "emailable                 73481    NaN         NaN    NaN   0.517644   \n",
      "solicit_ph_ind            73481    NaN         NaN    NaN   0.891509   \n",
      "solicit_email_ind         73481    NaN         NaN    NaN   0.963719   \n",
      "fixd_incm_flg             73481    NaN         NaN    NaN  0.0918741   \n",
      "scheduled_purchase_flg    73481    NaN         NaN    NaN   0.264749   \n",
      "months_since_last_trans   73481    NaN         NaN    NaN    2.90516   \n",
      "months_since_first_trans  73481    NaN         NaN    NaN    65.2841   \n",
      "purch_avg_interval        73481    NaN         NaN    NaN    4.85447   \n",
      "mail_cnt_36mo             73481    NaN         NaN    NaN    19.0434   \n",
      "call_in_mo_36mo           73481    NaN         NaN    NaN    7.75918   \n",
      "call_out_mo_36mo          73481    NaN         NaN    NaN    2.27415   \n",
      "tier                      73481      5    1-Bronze  47066        NaN   \n",
      "tier_prev                 73481      6         xxx  49632        NaN   \n",
      "acct_ID                   73481  73384  I152642467      3        NaN   \n",
      "activation_date           73481    200     06JUL00   5295        NaN   \n",
      "event_date                19330     12     31JUL15   2156        NaN   \n",
      "churn_year_plus1_ind      73481    NaN         NaN    NaN   0.263061   \n",
      "log_order_cnt_36mo        73481    NaN         NaN    NaN   0.737447   \n",
      "log_purch_amt_36mo        73481    NaN         NaN    NaN    2.60484   \n",
      "log_purch_amt_life        73481    NaN         NaN    NaN    2.86126   \n",
      "log_purch_avg_36mo        73481    NaN         NaN    NaN    1.54112   \n",
      "log_purch_cnt_life        73481    NaN         NaN    NaN    1.39839   \n",
      "log_purch_cnt_tt_36mo     73481    NaN         NaN    NaN     1.1408   \n",
      "log_resp_cnt_36mo         73481    NaN         NaN    NaN   0.325407   \n",
      "perc_purch_cc_36mo        73481    NaN         NaN    NaN   0.308825   \n",
      "perc_purch_ck_36mo        73481    NaN         NaN    NaN   0.559021   \n",
      "perc_purch_et_36mo        73481    NaN         NaN    NaN   0.132011   \n",
      "\n",
      "                               std      min       25%       50%       75%  \\\n",
      "ST                             NaN      NaN       NaN       NaN       NaN   \n",
      "Zip                            NaN      NaN       NaN       NaN       NaN   \n",
      "DMA                            NaN      NaN       NaN       NaN       NaN   \n",
      "Area_Cd                        NaN      NaN       NaN       NaN       NaN   \n",
      "emailable                 0.499692        0         0         1         1   \n",
      "solicit_ph_ind            0.311001        0         1         1         1   \n",
      "solicit_email_ind         0.186991        0         1         1         1   \n",
      "fixd_incm_flg              0.28885        0         0         0         0   \n",
      "scheduled_purchase_flg    0.441202        0         0         0         1   \n",
      "months_since_last_trans    3.09801        1         1         1         4   \n",
      "months_since_first_trans    58.053        1        14        46       109   \n",
      "purch_avg_interval           9.957        0         1      1.21      2.56   \n",
      "mail_cnt_36mo              14.8088        0         6        16        33   \n",
      "call_in_mo_36mo            45.5587        0         0         0         3   \n",
      "call_out_mo_36mo           2.36998        0         1         2         3   \n",
      "tier                           NaN      NaN       NaN       NaN       NaN   \n",
      "tier_prev                      NaN      NaN       NaN       NaN       NaN   \n",
      "acct_ID                        NaN      NaN       NaN       NaN       NaN   \n",
      "activation_date                NaN      NaN       NaN       NaN       NaN   \n",
      "event_date                     NaN      NaN       NaN       NaN       NaN   \n",
      "churn_year_plus1_ind      0.440298        0         0         0         1   \n",
      "log_order_cnt_36mo        0.290187        0   0.60206   0.69897   0.90309   \n",
      "log_purch_amt_36mo        0.646758        0   2.20683   2.70842   3.02572   \n",
      "log_purch_amt_life        0.794009        0   2.34439   2.90849   3.42515   \n",
      "log_purch_avg_36mo        0.351753        0   1.32222   1.41814   1.67825   \n",
      "log_purch_cnt_life        0.602707  0.30103  0.954243   1.43136   1.86923   \n",
      "log_purch_cnt_tt_36mo     0.428181        0  0.845098   1.23045   1.53148   \n",
      "log_resp_cnt_36mo         0.451706        0         0         0   0.60206   \n",
      "perc_purch_cc_36mo        0.439823        0         0         0  0.933333   \n",
      "perc_purch_ck_36mo        0.469589        0         0  0.923077         1   \n",
      "perc_purch_et_36mo        0.321428        0         0         0         0   \n",
      "\n",
      "                              max  \n",
      "ST                            NaN  \n",
      "Zip                           NaN  \n",
      "DMA                           NaN  \n",
      "Area_Cd                       NaN  \n",
      "emailable                       1  \n",
      "solicit_ph_ind                  1  \n",
      "solicit_email_ind               1  \n",
      "fixd_incm_flg                   1  \n",
      "scheduled_purchase_flg          1  \n",
      "months_since_last_trans        12  \n",
      "months_since_first_trans      298  \n",
      "purch_avg_interval            165  \n",
      "mail_cnt_36mo                 428  \n",
      "call_in_mo_36mo              2322  \n",
      "call_out_mo_36mo               38  \n",
      "tier                          NaN  \n",
      "tier_prev                     NaN  \n",
      "acct_ID                       NaN  \n",
      "activation_date               NaN  \n",
      "event_date                    NaN  \n",
      "churn_year_plus1_ind            1  \n",
      "log_order_cnt_36mo        2.67578  \n",
      "log_purch_amt_36mo        5.76324  \n",
      "log_purch_amt_life        6.02883  \n",
      "log_purch_avg_36mo        4.70303  \n",
      "log_purch_cnt_life        3.16495  \n",
      "log_purch_cnt_tt_36mo     2.79934  \n",
      "log_resp_cnt_36mo         2.37291  \n",
      "perc_purch_cc_36mo              1  \n",
      "perc_purch_ck_36mo              2  \n",
      "perc_purch_et_36mo              1  \n"
     ]
    }
   ],
   "source": [
    "\"\"\" when avg interval = -1 replace with 36 months \"\"\"\n",
    "churn_df['purch_avg_interval'].replace([-1], 36, inplace=True)\n",
    "\n",
    "\"\"\" when avg purchase = -1 replace with 0 \"\"\"\n",
    "churn_df['purch_avg_36mo'].replace([-1], 0, inplace=True)\n",
    "\n",
    "churn_df['log_order_cnt_36mo']=np.log10(churn_df['order_cnt_36mo']+1)\n",
    "churn_df['log_purch_amt_36mo']=np.log10(churn_df['purch_amt_36mo']+1)\n",
    "churn_df['log_purch_amt_life']=np.log10(churn_df['purch_amt_life']+1)\n",
    "churn_df['log_purch_avg_36mo']=np.log10(churn_df['purch_avg_36mo']+1)\n",
    "churn_df['log_purch_cnt_life']=np.log10(churn_df['purch_cnt_life']+1)\n",
    "churn_df['log_purch_cnt_tt_36mo']=np.log10(churn_df['purch_cnt_tt_36mo']+1)\n",
    "churn_df['log_resp_cnt_36mo']=np.log10(churn_df['resp_cnt_36mo']+1)\n",
    "\n",
    "churn_df['perc_purch_cc_36mo']=np.where(churn_df['purch_cnt_tt_36mo']==0,0,churn_df['purch_cnt_cc_36mo']/churn_df['purch_cnt_tt_36mo'])\n",
    "churn_df['perc_purch_ck_36mo']=np.where(churn_df['purch_cnt_tt_36mo']==0,0,churn_df['purch_cnt_ck_36mo']/churn_df['purch_cnt_tt_36mo'])\n",
    "churn_df['perc_purch_et_36mo']=np.where(churn_df['purch_cnt_tt_36mo']==0,0,churn_df['purch_cnt_et_36mo']/churn_df['purch_cnt_tt_36mo'])\n",
    "\n",
    "churn_df = churn_df.drop(['order_cnt_36mo','purch_amt_36mo','purch_amt_life','purch_avg_36mo','purch_cnt_life',\n",
    "                          'purch_cnt_tt_36mo','resp_cnt_36mo',\n",
    "                          'purch_cnt_cc_36mo','purch_cnt_ck_36mo','purch_cnt_et_36mo'],axis=1)\n",
    "\n",
    "print(\" summary stats on churn data \") \n",
    "print(churn_df.describe(include='all').transpose())"
   ]
  },
  {
   "cell_type": "markdown",
   "metadata": {},
   "source": [
    "## histogram plot on new log variable in Churn data"
   ]
  },
  {
   "cell_type": "code",
   "execution_count": 11,
   "metadata": {},
   "outputs": [
    {
     "data": {
      "text/plain": [
       "<matplotlib.axes._subplots.AxesSubplot at 0xaeb5978>"
      ]
     },
     "execution_count": 11,
     "metadata": {},
     "output_type": "execute_result"
    },
    {
     "data": {
      "image/png": "[encoded data removed]",
      "text/plain": [
       "<Figure size 432x288 with 1 Axes>"
      ]
     },
     "metadata": {
      "needs_background": "light"
     },
     "output_type": "display_data"
    }
   ],
   "source": [
    "churn_df['log_purch_amt_life'].plot.hist(title=\"Distribution of LOG of Purchase Amount\",bins=50)"
   ]
  },
  {
   "cell_type": "markdown",
   "metadata": {},
   "source": [
    "## Feature engineering on margin data, while keeping original variables.\n",
    "## Using logs with an offset that will account for very large negative margins:"
   ]
  },
  {
   "cell_type": "code",
   "execution_count": 12,
   "metadata": {},
   "outputs": [],
   "source": [
    "margin_df['margin_3yr_avg']=(margin_df['margin_Y_neg_1']+margin_df['margin_Y_neg_2']+margin_df['margin_Y_neg_3'])/3\n",
    "margin_df['log_margin_Y_neg_1']=np.log10(margin_df['margin_Y_neg_1']+50000)\n",
    "margin_df['log_margin_Y_neg_2']=np.log10(margin_df['margin_Y_neg_2']+50000)\n",
    "margin_df['log_margin_Y_neg_3']=np.log10(margin_df['margin_Y_neg_3']+50000)\n",
    "margin_df['log_margin_3yr_avg']=np.log10(margin_df['margin_3yr_avg']+50000)\n",
    "margin_df['log_margin_Y_pos_1']=np.log10(margin_df['margin_Y_pos_1']+50000)"
   ]
  },
  {
   "cell_type": "markdown",
   "metadata": {},
   "source": [
    "## Histogram on transformed target for Margin data"
   ]
  },
  {
   "cell_type": "code",
   "execution_count": 13,
   "metadata": {},
   "outputs": [
    {
     "data": {
      "text/plain": [
       "<matplotlib.axes._subplots.AxesSubplot at 0xa13fe10>"
      ]
     },
     "execution_count": 13,
     "metadata": {},
     "output_type": "execute_result"
    },
    {
     "data": {
      "image/png": "[encoded data removed]",
      "text/plain": [
       "<Figure size 432x288 with 1 Axes>"
      ]
     },
     "metadata": {
      "needs_background": "light"
     },
     "output_type": "display_data"
    }
   ],
   "source": [
    "margin_df['log_margin_Y_pos_1'].plot.hist(title=\"Distribution of LOG of Future Margin\",bins=50)"
   ]
  },
  {
   "cell_type": "markdown",
   "metadata": {},
   "source": [
    "## Scatter plot on Future Margin vs Prior Margin (logarithms):"
   ]
  },
  {
   "cell_type": "code",
   "execution_count": 14,
   "metadata": {},
   "outputs": [
    {
     "name": "stdout",
     "output_type": "stream",
     "text": [
      " \n"
     ]
    },
    {
     "data": {
      "image/png": "[encoded data removed]",
      "text/plain": [
       "<Figure size 432x288 with 1 Axes>"
      ]
     },
     "metadata": {
      "needs_background": "light"
     },
     "output_type": "display_data"
    }
   ],
   "source": [
    "plt.scatter(margin_df['log_margin_3yr_avg'], margin_df['log_margin_Y_pos_1'])\n",
    "plt.xlabel(\"3-Year Average Margin (log)\")\n",
    "plt.ylabel(\"Future Year Margin (log)\")\n",
    "plt.title(\"Scatter Plot on Margin Data\")\n",
    "print(\" \") \n",
    "plt.show()"
   ]
  },
  {
   "cell_type": "markdown",
   "metadata": {},
   "source": [
    "## Eliminating duplicate acct_IDs before joining data:"
   ]
  },
  {
   "cell_type": "code",
   "execution_count": 15,
   "metadata": {},
   "outputs": [
    {
     "data": {
      "text/plain": [
       "(73384, 31)"
      ]
     },
     "execution_count": 15,
     "metadata": {},
     "output_type": "execute_result"
    }
   ],
   "source": [
    "churn_df.drop_duplicates(subset=['acct_ID'], keep='first', inplace=True)\n",
    "churn_df.shape"
   ]
  },
  {
   "cell_type": "code",
   "execution_count": 16,
   "metadata": {},
   "outputs": [
    {
     "data": {
      "text/plain": [
       "(73384, 11)"
      ]
     },
     "execution_count": 16,
     "metadata": {},
     "output_type": "execute_result"
    }
   ],
   "source": [
    "margin_df.drop_duplicates(subset=['acct_ID'], keep='first', inplace=True)\n",
    "margin_df.shape"
   ]
  },
  {
   "cell_type": "markdown",
   "metadata": {},
   "source": [
    "## Join Churn and Margin data by acct_ID:"
   ]
  },
  {
   "cell_type": "code",
   "execution_count": 17,
   "metadata": {},
   "outputs": [
    {
     "data": {
      "text/plain": [
       "(73384, 41)"
      ]
     },
     "execution_count": 17,
     "metadata": {},
     "output_type": "execute_result"
    }
   ],
   "source": [
    "combined_df = pd.merge(churn_df, margin_df, on='acct_ID', how='inner')\n",
    "combined_df.shape"
   ]
  },
  {
   "cell_type": "markdown",
   "metadata": {},
   "source": [
    "## Create dummy variables for certain categorical variables."
   ]
  },
  {
   "cell_type": "code",
   "execution_count": 18,
   "metadata": {},
   "outputs": [
    {
     "name": "stdout",
     "output_type": "stream",
     "text": [
      " \n",
      "New dataset with dummies\n",
      " \n",
      "   ST    Zip  DMA  Area_Cd  emailable  solicit_ph_ind  solicit_email_ind  \\\n",
      "0  VA  23464  544  missing          0               0                  1   \n",
      "1  NC  27542  560      919          1               1                  1   \n",
      "2  NV  89109  839      702          0               0                  1   \n",
      "3  OH  43050  535      614          0               1                  1   \n",
      "4  HI  96789  744      808          1               1                  1   \n",
      "5  NC  28278  517      704          0               1                  1   \n",
      "6  WV  24966  559  missing          1               0                  1   \n",
      "7  NC  27317  518      336          0               1                  1   \n",
      "8  MT  59870  762      406          0               1                  1   \n",
      "9  KY  40272  529      502          1               1                  1   \n",
      "\n",
      "   fixd_incm_flg  scheduled_purchase_flg  months_since_last_trans  ...  \\\n",
      "0              0                       0                        2  ...   \n",
      "1              0                       0                        4  ...   \n",
      "2              0                       0                        8  ...   \n",
      "3              0                       0                        1  ...   \n",
      "4              0                       0                        4  ...   \n",
      "5              0                       0                       11  ...   \n",
      "6              0                       0                        8  ...   \n",
      "7              0                       0                        9  ...   \n",
      "8              0                       0                        1  ...   \n",
      "9              0                       0                        1  ...   \n",
      "\n",
      "   tier_2-Silver  tier_3-Gold  tier_4-Platinum  tier_5-Diamond  \\\n",
      "0              0            1                0               0   \n",
      "1              0            0                0               1   \n",
      "2              0            0                0               0   \n",
      "3              0            0                0               0   \n",
      "4              0            0                1               0   \n",
      "5              1            0                0               0   \n",
      "6              0            0                0               0   \n",
      "7              0            0                0               1   \n",
      "8              1            0                0               0   \n",
      "9              0            0                0               0   \n",
      "\n",
      "   tier_prev_1-Bronze tier_prev_2-Silver tier_prev_3-Gold  \\\n",
      "0                   0                  0                0   \n",
      "1                   0                  0                1   \n",
      "2                   0                  0                0   \n",
      "3                   0                  0                0   \n",
      "4                   0                  0                1   \n",
      "5                   0                  0                0   \n",
      "6                   0                  0                0   \n",
      "7                   0                  0                0   \n",
      "8                   1                  0                0   \n",
      "9                   0                  0                0   \n",
      "\n",
      "  tier_prev_4-Platinum tier_prev_5-Diamond tier_prev_xxx  \n",
      "0                    0                   0             1  \n",
      "1                    0                   0             0  \n",
      "2                    0                   0             1  \n",
      "3                    0                   0             1  \n",
      "4                    0                   0             0  \n",
      "5                    0                   0             1  \n",
      "6                    0                   0             1  \n",
      "7                    0                   1             0  \n",
      "8                    0                   0             0  \n",
      "9                    0                   0             1  \n",
      "\n",
      "[10 rows x 111 columns]\n",
      " \n",
      "Columns in new data\n",
      " \n",
      "ST                           object\n",
      "Zip                          object\n",
      "DMA                          object\n",
      "Area_Cd                      object\n",
      "emailable                     int64\n",
      "solicit_ph_ind                int64\n",
      "solicit_email_ind             int64\n",
      "fixd_incm_flg                 int64\n",
      "scheduled_purchase_flg        int64\n",
      "months_since_last_trans       int64\n",
      "months_since_first_trans      int64\n",
      "purch_avg_interval          float64\n",
      "mail_cnt_36mo                 int64\n",
      "call_in_mo_36mo               int64\n",
      "call_out_mo_36mo              int64\n",
      "tier                         object\n",
      "tier_prev                    object\n",
      "acct_ID                      object\n",
      "activation_date              object\n",
      "event_date                   object\n",
      "churn_year_plus1_ind          int64\n",
      "log_order_cnt_36mo          float64\n",
      "log_purch_amt_36mo          float64\n",
      "log_purch_amt_life          float64\n",
      "log_purch_avg_36mo          float64\n",
      "log_purch_cnt_life          float64\n",
      "log_purch_cnt_tt_36mo       float64\n",
      "log_resp_cnt_36mo           float64\n",
      "perc_purch_cc_36mo          float64\n",
      "perc_purch_ck_36mo          float64\n",
      "                             ...   \n",
      "ST_OH                         uint8\n",
      "ST_OK                         uint8\n",
      "ST_OR                         uint8\n",
      "ST_PA                         uint8\n",
      "ST_PR                         uint8\n",
      "ST_RI                         uint8\n",
      "ST_SC                         uint8\n",
      "ST_SD                         uint8\n",
      "ST_TN                         uint8\n",
      "ST_TX                         uint8\n",
      "ST_UT                         uint8\n",
      "ST_VA                         uint8\n",
      "ST_VI                         uint8\n",
      "ST_VT                         uint8\n",
      "ST_WA                         uint8\n",
      "ST_WI                         uint8\n",
      "ST_WV                         uint8\n",
      "ST_WY                         uint8\n",
      "ST_missing                    uint8\n",
      "tier_1-Bronze                 uint8\n",
      "tier_2-Silver                 uint8\n",
      "tier_3-Gold                   uint8\n",
      "tier_4-Platinum               uint8\n",
      "tier_5-Diamond                uint8\n",
      "tier_prev_1-Bronze            uint8\n",
      "tier_prev_2-Silver            uint8\n",
      "tier_prev_3-Gold              uint8\n",
      "tier_prev_4-Platinum          uint8\n",
      "tier_prev_5-Diamond           uint8\n",
      "tier_prev_xxx                 uint8\n",
      "Length: 111, dtype: object\n"
     ]
    }
   ],
   "source": [
    "\"\"\" WARNING: this commented-out approach would create dummy indicators for all \"\"\"\n",
    "\"\"\"    categorical variables, including those with very high cardinality, such as zip codes \"\"\"\n",
    "\"\"\"    and also would drop the original categorical variables and only keep the dummy indicators \"\"\"\n",
    "\n",
    "\"\"\" combined_df = pd.get_dummies(combined_df) \"\"\"\n",
    "\n",
    "\"\"\" this approach hand-picks only certain variables for which to create dummy indicators \"\"\"\n",
    "\"\"\" and keeps the original variables too \"\"\"\n",
    "\n",
    "for column in ['ST', 'tier', 'tier_prev']:\n",
    "    dummies = pd.get_dummies(combined_df[column],prefix=column)\n",
    "    combined_df[dummies.columns] = dummies\n",
    "\n",
    "print(\" \") \n",
    "print(\"New dataset with dummies\") \n",
    "print(\" \") \n",
    "print(combined_df.head(10)) \n",
    "print(\" \") \n",
    "print(\"Columns in new data\")\n",
    "print(\" \") \n",
    "print(combined_df.dtypes)"
   ]
  },
  {
   "cell_type": "markdown",
   "metadata": {},
   "source": [
    "## export updated data as new csv file"
   ]
  },
  {
   "cell_type": "code",
   "execution_count": 19,
   "metadata": {},
   "outputs": [],
   "source": [
    "combined_df.to_csv(r'D:\\Adjunct_Lecture\\OSU\\Fall_2019\\Lab_Data\\combined_data.csv',index=False)"
   ]
  },
  {
   "cell_type": "code",
   "execution_count": null,
   "metadata": {},
   "outputs": [],
   "source": []
  }
 ],
 "metadata": {
  "kernelspec": {
   "display_name": "Python 3",
   "language": "python",
   "name": "python3"
  },
  "language_info": {
   "codemirror_mode": {
    "name": "ipython",
    "version": 3
   },
   "file_extension": ".py",
   "mimetype": "text/x-python",
   "name": "python",
   "nbconvert_exporter": "python",
   "pygments_lexer": "ipython3",
   "version": "3.7.3"
  }
 },
 "nbformat": 4,
 "nbformat_minor": 2
}
